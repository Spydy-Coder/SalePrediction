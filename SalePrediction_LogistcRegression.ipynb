{
  "nbformat": 4,
  "nbformat_minor": 0,
  "metadata": {
    "colab": {
      "name": "SalePrediction_LogistcRegression.ipynb",
      "provenance": [],
      "collapsed_sections": [],
      "authorship_tag": "ABX9TyM0HBYm4mvJpv/n/8rFEHW4",
      "include_colab_link": true
    },
    "kernelspec": {
      "name": "python3",
      "display_name": "Python 3"
    },
    "language_info": {
      "name": "python"
    }
  },
  "cells": [
    {
      "cell_type": "markdown",
      "metadata": {
        "id": "view-in-github",
        "colab_type": "text"
      },
      "source": [
        "<a href=\"https://colab.research.google.com/github/Spydy-Coder/SalePrediction/blob/main/SalePrediction_LogistcRegression.ipynb\" target=\"_parent\"><img src=\"https://colab.research.google.com/assets/colab-badge.svg\" alt=\"Open In Colab\"/></a>"
      ]
    },
    {
      "cell_type": "markdown",
      "metadata": {
        "id": "1ywvkHH-uJkH"
      },
      "source": [
        "# **What is the Problem?**\n"
      ]
    },
    {
      "cell_type": "markdown",
      "metadata": {
        "id": "LEBHbxZcu7EP"
      },
      "source": [
        "**Sale Prediction using Logistic Regression**\n",
        "\n",
        "We have to predict whether a customer will buy a phone or not depending on his age and salary data.\n"
      ]
    },
    {
      "cell_type": "markdown",
      "metadata": {
        "id": "6TT2RF5CwrCy"
      },
      "source": [
        "#**Importing Libraries**"
      ]
    },
    {
      "cell_type": "code",
      "metadata": {
        "id": "aYYAWkYuuItU"
      },
      "source": [
        "import pandas as pd\n",
        "import numpy as np"
      ],
      "execution_count": 33,
      "outputs": []
    },
    {
      "cell_type": "markdown",
      "metadata": {
        "id": "EwDO-KxM0S-H"
      },
      "source": [
        "#**Load DataSet**"
      ]
    },
    {
      "cell_type": "code",
      "metadata": {
        "id": "3Ve475PM0RNK"
      },
      "source": [
        "dataset=pd.read_csv('ad_dataset.csv')"
      ],
      "execution_count": 34,
      "outputs": []
    },
    {
      "cell_type": "markdown",
      "metadata": {
        "id": "2VCH7oEn1chA"
      },
      "source": [
        "#**Summarize Dataset**"
      ]
    },
    {
      "cell_type": "code",
      "metadata": {
        "colab": {
          "base_uri": "https://localhost:8080/"
        },
        "id": "r_Q53ylsxL-8",
        "outputId": "cd40a23f-d204-486d-ff11-04f5368bcf7e"
      },
      "source": [
        "print(dataset.shape) #rows and columns\n",
        "print(dataset.head(5)) #first five rows of the data"
      ],
      "execution_count": 35,
      "outputs": [
        {
          "output_type": "stream",
          "name": "stdout",
          "text": [
            "(400, 3)\n",
            "   Age  Salary  Status\n",
            "0   18   82000       0\n",
            "1   29   80000       0\n",
            "2   47   25000       1\n",
            "3   45   26000       1\n",
            "4   46   28000       1\n"
          ]
        }
      ]
    },
    {
      "cell_type": "markdown",
      "metadata": {
        "id": "TeM9TLmT0OsB"
      },
      "source": [
        "#**Segregate Dataset into X(Input/IndependentVariable) & Y(Output/DependentVariable)**"
      ]
    },
    {
      "cell_type": "code",
      "metadata": {
        "id": "7S63QbIv2HtY"
      },
      "source": [
        "X=dataset.iloc[:,:-1].values\n",
        "Y=dataset.iloc[:,-1].values\n"
      ],
      "execution_count": 36,
      "outputs": []
    },
    {
      "cell_type": "markdown",
      "metadata": {
        "id": "PTv7Zcn92w0_"
      },
      "source": [
        "#**Splitting Dataset into Train & Test**"
      ]
    },
    {
      "cell_type": "code",
      "metadata": {
        "id": "qgpemFTx3MHX"
      },
      "source": [
        "from sklearn.model_selection import train_test_split\n",
        "X_train, X_test, y_train, y_test =  train_test_split(X,Y,test_size=0.25,random_state=0)\n",
        "# X_train contain 75 % of the data and the rest data are present in X_test"
      ],
      "execution_count": 37,
      "outputs": []
    },
    {
      "cell_type": "markdown",
      "metadata": {
        "id": "sRRuLKCX4IpD"
      },
      "source": [
        "#**Feature Scaling**"
      ]
    },
    {
      "cell_type": "code",
      "metadata": {
        "id": "AxjU4wIx4L_u"
      },
      "source": [
        "from sklearn.preprocessing import StandardScaler\n",
        "sc = StandardScaler()\n",
        "X_train = sc.fit_transform(X_train)\n",
        "X_test = sc.transform(X_test)"
      ],
      "execution_count": 38,
      "outputs": []
    },
    {
      "cell_type": "markdown",
      "metadata": {
        "id": "f9aw-fsD4kE1"
      },
      "source": [
        "#**Training**\n",
        "\n",
        "**We are using Logistic Regression Algorithm to solve this problem.**"
      ]
    },
    {
      "cell_type": "code",
      "metadata": {
        "colab": {
          "base_uri": "https://localhost:8080/"
        },
        "id": "txzUwxbq4nsv",
        "outputId": "426fd9fd-95a9-4159-9446-3159b1e09d4f"
      },
      "source": [
        "from sklearn.linear_model import LogisticRegression\n",
        "model = LogisticRegression(random_state=0)\n",
        "model.fit(X_train,y_train)"
      ],
      "execution_count": 39,
      "outputs": [
        {
          "output_type": "execute_result",
          "data": {
            "text/plain": [
              "LogisticRegression(random_state=0)"
            ]
          },
          "metadata": {},
          "execution_count": 39
        }
      ]
    },
    {
      "cell_type": "markdown",
      "metadata": {
        "id": "m7nu96pqQSqN"
      },
      "source": [
        "#**Prediction for all Test Data**"
      ]
    },
    {
      "cell_type": "code",
      "metadata": {
        "colab": {
          "base_uri": "https://localhost:8080/"
        },
        "id": "lrpsMdQpQjBi",
        "outputId": "f306ea68-b37d-4cf7-a203-9acc9079e76e"
      },
      "source": [
        "y_pred= model.predict(X_test)\n",
        "print(np.concatenate((y_pred.reshape(len(y_pred),1),y_test.reshape(len(y_test),1)),1))"
      ],
      "execution_count": 41,
      "outputs": [
        {
          "output_type": "stream",
          "name": "stdout",
          "text": [
            "[[0 1]\n",
            " [0 1]\n",
            " [1 1]\n",
            " [1 1]\n",
            " [0 0]\n",
            " [0 0]\n",
            " [0 0]\n",
            " [1 1]\n",
            " [0 0]\n",
            " [0 0]\n",
            " [0 0]\n",
            " [0 0]\n",
            " [0 0]\n",
            " [0 1]\n",
            " [0 1]\n",
            " [0 0]\n",
            " [1 1]\n",
            " [0 0]\n",
            " [0 0]\n",
            " [0 0]\n",
            " [0 0]\n",
            " [0 1]\n",
            " [0 0]\n",
            " [0 1]\n",
            " [0 0]\n",
            " [0 0]\n",
            " [0 0]\n",
            " [0 0]\n",
            " [1 1]\n",
            " [0 0]\n",
            " [0 0]\n",
            " [0 0]\n",
            " [0 0]\n",
            " [1 1]\n",
            " [0 0]\n",
            " [0 0]\n",
            " [0 0]\n",
            " [0 0]\n",
            " [0 0]\n",
            " [0 0]\n",
            " [0 0]\n",
            " [1 1]\n",
            " [0 1]\n",
            " [0 0]\n",
            " [0 1]\n",
            " [0 0]\n",
            " [0 1]\n",
            " [0 0]\n",
            " [0 0]\n",
            " [1 1]\n",
            " [1 1]\n",
            " [0 0]\n",
            " [1 1]\n",
            " [0 0]\n",
            " [0 0]\n",
            " [0 0]\n",
            " [0 0]\n",
            " [0 1]\n",
            " [0 0]\n",
            " [0 0]\n",
            " [0 0]\n",
            " [0 0]\n",
            " [0 1]\n",
            " [0 0]\n",
            " [0 0]\n",
            " [1 1]\n",
            " [0 1]\n",
            " [0 1]\n",
            " [0 1]\n",
            " [1 1]\n",
            " [0 1]\n",
            " [1 1]\n",
            " [0 0]\n",
            " [0 0]\n",
            " [0 0]\n",
            " [0 0]\n",
            " [0 0]\n",
            " [0 1]\n",
            " [0 1]\n",
            " [0 1]\n",
            " [1 1]\n",
            " [0 0]\n",
            " [0 0]\n",
            " [0 0]\n",
            " [0 0]\n",
            " [1 1]\n",
            " [0 0]\n",
            " [0 0]\n",
            " [0 0]\n",
            " [1 1]\n",
            " [0 0]\n",
            " [0 0]\n",
            " [0 0]\n",
            " [0 1]\n",
            " [1 1]\n",
            " [0 1]\n",
            " [0 0]\n",
            " [0 0]\n",
            " [1 1]\n",
            " [1 1]]\n"
          ]
        }
      ]
    },
    {
      "cell_type": "markdown",
      "metadata": {
        "id": "OBLy8bhGR_3i"
      },
      "source": [
        "#**Evaluating Model- *CONFUSION MATRIX***"
      ]
    },
    {
      "cell_type": "code",
      "metadata": {
        "colab": {
          "base_uri": "https://localhost:8080/"
        },
        "id": "nfKuLcgvSMdR",
        "outputId": "0b01ffae-0e63-447e-efd8-a142dd3c235c"
      },
      "source": [
        "from sklearn.metrics import confusion_matrix, accuracy_score\n",
        "cm = confusion_matrix(y_test,y_pred)\n",
        "\n",
        "print(\"Confusion Matrix:\")\n",
        "print(cm)\n",
        "\n",
        "print(\"Accuracy of the Model: {0}%\".format(accuracy_score(y_test,y_pred)*100))"
      ],
      "execution_count": 44,
      "outputs": [
        {
          "output_type": "stream",
          "name": "stdout",
          "text": [
            "Confusion Matrix:\n",
            "[[61  0]\n",
            " [20 19]]\n",
            "Accuracy of the Model: 80.0%\n"
          ]
        }
      ]
    },
    {
      "cell_type": "markdown",
      "metadata": {
        "id": "NvEx5c3JSAFS"
      },
      "source": [
        "#**Predicting, whether new customer with Age & Salary will buy or not**"
      ]
    },
    {
      "cell_type": "code",
      "metadata": {
        "colab": {
          "base_uri": "https://localhost:8080/"
        },
        "id": "xEFNFtdgTKg2",
        "outputId": "8d092902-3ab0-4f7a-e193-a4d5c5f941a4"
      },
      "source": [
        "age=int(input(\"Enter New Customer Age:\"))\n",
        "sal=int(input(\"Enter New Customer Salary:\"))\n",
        "newCust=[[age,sal]]\n",
        "result=model.predict(sc.transform(newCust))\n",
        "print(result)\n",
        "\n",
        "if(result==1):\n",
        "  print(\"Customer will Buy.\")\n",
        "else:\n",
        "  print(\"Customer won't Buy.\")"
      ],
      "execution_count": 52,
      "outputs": [
        {
          "output_type": "stream",
          "name": "stdout",
          "text": [
            "Enter New Customer Age:100\n",
            "Enter New Customer Salary:99999999\n",
            "[1]\n",
            "Customer will Buy.\n"
          ]
        }
      ]
    }
  ]
}
